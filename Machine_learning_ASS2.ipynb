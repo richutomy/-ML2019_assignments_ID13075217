{
  "nbformat": 4,
  "nbformat_minor": 0,
  "metadata": {
    "colab": {
      "name": "Machine_learning_ASS2",
      "provenance": [],
      "toc_visible": true,
      "include_colab_link": true
    },
    "kernelspec": {
      "name": "python3",
      "display_name": "Python 3"
    }
  },
  "cells": [
    {
      "cell_type": "markdown",
      "metadata": {
        "id": "view-in-github",
        "colab_type": "text"
      },
      "source": [
        "<a href=\"https://colab.research.google.com/github/richutomy/-ML2019_assignments_ID13075217/blob/master/Machine_learning_ASS2.ipynb\" target=\"_parent\"><img src=\"https://colab.research.google.com/assets/colab-badge.svg\" alt=\"Open In Colab\"/></a>"
      ]
    },
    {
      "cell_type": "code",
      "metadata": {
        "id": "iLHW2wVzZUAo",
        "colab_type": "code",
        "colab": {}
      },
      "source": [
        "rm(list = ls() )\n",
        "library(\"twitteR\")\n",
        "#installing packages\n",
        "install.packages(c(\"ROAuth\",\"plyr\",\"stringr\",\"ggplot2\"), dependencies = TRUE)\n",
        "#loading packages\n",
        "library(ROAuth)\n",
        "library(plyr)\n",
        "library(stringr)\n",
        "library(ggplot2)\n",
        "install.packages(c('ROAuth','RCurl'))\n",
        "require('ROAuth')\n",
        "require('RCurl')\n",
        "options(RCurlOptions = list(cainfo = system.file(\"CurlSSL\", \"cacert.pem\", package = \"RCurl\")))\n",
        "\n",
        "\n"
      ],
      "execution_count": 0,
      "outputs": []
    },
    {
      "cell_type": "markdown",
      "metadata": {
        "id": "kCXx93zWfqs3",
        "colab_type": "text"
      },
      "source": [
        ""
      ]
    },
    {
      "cell_type": "code",
      "metadata": {
        "id": "qQ8bQew-dLrt",
        "colab_type": "code",
        "colab": {}
      },
      "source": [
        "#saving the credentials and registering\n",
        "download.file(url= \"http://curl.haxx.se/ca/cacert.pem\", destfile= \"cacert.pem\")\n",
        "credentials <- OAuthFactory$new(consumerKey='pfDAhwXTSOWDgwHJ0Tw2rPyr9',\n",
        "consumerSecret='k5v9SqK5uMk86rdUxsuWgv0SJdTKbHam8EjjlpBGq9tRfvmv4W',\n",
        "requestURL='https://api.twitter.com/oauth/request_token',\n",
        "accessURL='https://api.twitter.com/oauth/access_token',\n",
        "authURL='https://api.twitter.com/oauth/authorize')\n",
        "\n",
        "credentials$handshake(cainfo=\"cacert.pem\")\n",
        "\n",
        "save(credentials, file=\"twitter authentication.Rdata\")\n",
        "\n",
        "load(\"twitter authentication.Rdata\")\n",
        "#calling twitter OAuth function\n",
        "\n",
        "setup_twitter_oauth(credentials$consumerKey, credentials$consumerSecret, \n",
        "                    credentials$oauthKey, credentials$oauthSecret)\n",
        "\n",
        "# save(Cred, file =\"twitter authentication.Rdata\")\n",
        "# load(\"twitter authentication.Rdata\")\n",
        "# registerTwitterOAuth(Cred)\n"
      ],
      "execution_count": 0,
      "outputs": []
    },
    {
      "cell_type": "code",
      "metadata": {
        "id": "SZDWf1GJ0E3l",
        "colab_type": "code",
        "colab": {}
      },
      "source": [
        "#getting timeline data on ma3Route\n",
        "tweets <- userTimeline(\"iphone\", n=3200, maxID=NULL, sinceID=NULL, includeRts=TRUE)\n",
        "\n",
        "#convert the tweets into a df\n",
        "tweets.df <-twListToDF(tweets)\n",
        "dim(tweets.df)\n",
        "\n",
        "library(tm)\n",
        "library(stringr)\n",
        "\n",
        "#build a corpus and specify the source to be character of vectors\n",
        "#a corpus is a collection of written texts\n",
        "myCorpus <- Corpus(VectorSource(tweets.df$text))\n",
        "myCorpus <- tm_map(myCorpus, function(x) iconv(enc2utf8(x), sub = \"byte\"))\n",
        "\n",
        "#convert myCorpus into lowercase\n",
        "myCorpus <- tm_map(myCorpus, content_transformer(tolower))\n",
        "\n",
        "#remove punctuation\n",
        "myCorpus <- tm_map(myCorpus, removePunctuation)\n",
        "#remove numbers\n",
        "myCorpus <- tm_map(myCorpus, removeNumbers)\n",
        "\n",
        "Textprocessing <- function(x)\n",
        "  {gsub(\"http[[:alnum:]]*\",'', x)\n",
        "  gsub('http\\\\S+\\\\s*', '', x) ## Remove URLs\n",
        "  gsub('\\\\b+RT', '', x) ## Remove RT\n",
        "  gsub('#\\\\S+', '', x) ## Remove Hashtags\n",
        "  gsub('@\\\\S+', '', x) ## Remove Mentions\n",
        "  gsub('[[:cntrl:]]', '', x) ## Remove Controls and special characters\n",
        "  gsub(\"\\\\d\", '', x) ## Remove Controls and special characters\n",
        "  gsub('[[:punct:]]', '', x) ## Remove Punctuations\n",
        "  gsub(\"^[[:space:]]*\",\"\",x) ## Remove leading whitespaces\n",
        "  gsub(\"[[:space:]]*$\",\"\",x) ## Remove trailing whitespaces\n",
        "  gsub(' +',' ',x) ## Remove extra whitespaces\n",
        "}\n",
        "myCorpus <- tm_map(myCorpus,Textprocessing)\n",
        "\n",
        "# remove extra whitespace\n",
        "myCorpus <- tm_map(myCorpus, stripWhitespace)\n",
        "\n",
        "#add stopwords\n",
        "#stopwords are words which do not contain much significance.\n",
        "#These words are usually filtered out because they return vast amount of unnecessary information.\n",
        "mystopwords <- c(stopwords(\"english\"),\"rt\",\"íí\",\"get\",\"like\",\"just\",\"yes\",\"know\",\"will\",\"good\",\"day\",\"people\")\n",
        "\n",
        "#remove stopwords\n",
        "myCorpus <- tm_map(myCorpus,removeWords,mystopwords)"
      ],
      "execution_count": 0,
      "outputs": []
    },
    {
      "cell_type": "markdown",
      "metadata": {
        "id": "7jHGZiotf3iJ",
        "colab_type": "text"
      },
      "source": [
        "# New Section"
      ]
    },
    {
      "cell_type": "markdown",
      "metadata": {
        "id": "Lel4fYIrf565",
        "colab_type": "text"
      },
      "source": [
        "# SENTIMENTAL ANALYSIS OF TWITTER DATA"
      ]
    },
    {
      "cell_type": "code",
      "metadata": {
        "id": "MtApNUICdus8",
        "colab_type": "code",
        "colab": {}
      },
      "source": [
        ""
      ],
      "execution_count": 0,
      "outputs": []
    },
    {
      "cell_type": "markdown",
      "metadata": {
        "id": "f9Pt2MiygKV2",
        "colab_type": "text"
      },
      "source": [
        "BUSINESS PROBLEMS\n",
        "\n",
        "Social media proves to be a medium for consumers to access information more easily and also understand multiple perspectives about various products and services (Kang, 2018). As a result the information that is shared through social media can affect a potential consumer’s decision to make a purchase. Social media promotes interaction, coordination as well as sharing of content (Palmer & Koenig-Lewis, 2009). This can be through blogs, social network platforms as well as review websites. Such sites can also be used to promote brands such as Pinterest. The information that is shared in the Internet about different opinions of users about products can be utilised by firms to evaluate the general feedback of the users to further improve their offerings and more over ensure a higher customer satisfaction.\n",
        "\n",
        "In this project, we aim to utilise the information available on social media to understand the general opinion of users about a product which would assist the vendor to further iterate their product. As part of this assignment, sentimental analysis would be used to understand the general trends in social media. Sentimental analysis can be defined as the procedure of computationally recognising and classifying feedbacks that is usually elaborated through text in order to identify the attitude of the writer as either positive, negative or neutral.  Thus the business problem statement of this project is as follows:\n",
        "Analysing the overall feedback of consumers with regards to the launch of the latest Apple iPhone 11 through Sentimental Analysis utilising Twitter Data. The data from Twitter is considered because the information is easily available when compared to other social networking sites such as Facebook and Instagram. In this project, tweets containing information @apple , #Iphone11 and so on. The mentioned business problem statement can be further divided into sub-sections as follows:\n",
        "\n",
        "\n",
        "\n",
        "*   Gathering Tweets through Twitter application\n",
        "*   Gathering Tweets through Twitter application\n",
        "*   Conducting Sentimental Analysis\n",
        "*   Executing Machine learning Algorithms to classify sentiments as positive, negative or neutral.\n",
        "\n",
        "\n",
        "Through this project, a firm can be assisted in comprehending users’ emotions regarding the firm’s brand, products and services. In addition, stake holders of the business can be updated about how an action can have either a positive or negative impact on the business. This would in turn enhance the customer satisfaction and customer service.\n",
        "\n"
      ]
    },
    {
      "cell_type": "markdown",
      "metadata": {
        "id": "e_5nL40ngQRS",
        "colab_type": "text"
      },
      "source": [
        "# DATA MINING PROBLEMS\n",
        "The data mining problem can be considered as two stages:\n",
        "\n",
        "1.  Data cleaning/conditioning stage:  In this stage, the raw data from twitter needs to be cleaned and transformed into cleaned dataset that facilitates computation of predicting factors\n",
        "\n",
        "    This stage consists of the following steps:\n",
        "\n",
        "\n",
        "*   Data gathering from twitter\n",
        "*   Data pre-processing\n",
        "\n",
        "\n",
        "2.  Prediction & Analysis stage:  In this stage, a prediction model needs to be created that will assist predictions of outcomes dependent on a new variety of factors that were not included in the primary datasets.\n",
        "\n",
        "\n",
        "     This stage consists of the following steps:\n",
        "\n",
        "\n",
        "*   Prediction Model building and data analysis\n",
        "*   Correlation and Prediction Analysis\n",
        "\n",
        "\n",
        "The framework (Figure 1) utilised in this project is along the lines of Social Media Mining (SMM), Big Data, Sentimental Analysis, Data Mining, and Machine Learning methodologies that is utilised to classify and evaluate data from tweets.\n",
        "![alt text](https://drive.google.com/uc?id=1hdeQeAgwHsbofd2FjNQysMT8ubmNcRCwm0t4u6MCUng\n",
        "\n",
        "\n",
        "\n"
      ]
    },
    {
      "cell_type": "markdown",
      "metadata": {
        "id": "ozg9ZHcjgtOY",
        "colab_type": "text"
      },
      "source": [
        "# New Section"
      ]
    },
    {
      "cell_type": "markdown",
      "metadata": {
        "id": "EcnkUw5jgjnQ",
        "colab_type": "text"
      },
      "source": [
        "# New Section"
      ]
    }
  ]
}