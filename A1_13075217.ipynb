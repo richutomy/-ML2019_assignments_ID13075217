{
  "nbformat": 4,
  "nbformat_minor": 0,
  "metadata": {
    "kernelspec": {
      "display_name": "Python 3",
      "language": "python",
      "name": "python3"
    },
    "language_info": {
      "codemirror_mode": {
        "name": "ipython",
        "version": 3
      },
      "file_extension": ".py",
      "mimetype": "text/x-python",
      "name": "python",
      "nbconvert_exporter": "python",
      "pygments_lexer": "ipython3",
      "version": "3.5.4"
    },
    "toc": {
      "base_numbering": 1,
      "nav_menu": {},
      "number_sections": true,
      "sideBar": true,
      "skip_h1_title": false,
      "title_cell": "Table of Contents",
      "title_sidebar": "Contents",
      "toc_cell": false,
      "toc_position": {},
      "toc_section_display": true,
      "toc_window_display": false
    },
    "colab": {
      "name": "A1_13075217.ipynb",
      "version": "0.3.2",
      "provenance": [],
      "include_colab_link": true
    }
  },
  "cells": [
    {
      "cell_type": "markdown",
      "metadata": {
        "id": "view-in-github",
        "colab_type": "text"
      },
      "source": [
        "<a href=\"https://colab.research.google.com/github/richutomy/-ML2019_assignments_ID13075217/blob/master/A1_13075217.ipynb\" target=\"_parent\"><img src=\"https://colab.research.google.com/assets/colab-badge.svg\" alt=\"Open In Colab\"/></a>"
      ]
    },
    {
      "cell_type": "markdown",
      "metadata": {
        "id": "iUXEGA9-XzLr",
        "colab_type": "text"
      },
      "source": [
        "# Review Report on \"Eigenfaces vs. Fisherfaces: Recognition Using Class Specific Linear Projection\""
      ]
    },
    {
      "cell_type": "markdown",
      "metadata": {
        "id": "d81CCh4FH1AX",
        "colab_type": "text"
      },
      "source": [
        "URL : https://github.com/richutomy/-ML2019_assignments_ID13075217/blob/master/A1_13075217.ipynb"
      ]
    },
    {
      "cell_type": "markdown",
      "metadata": {
        "id": "4lGadZrJXzLs",
        "colab_type": "text"
      },
      "source": [
        "\n",
        "# **1. INTRODUCTION**\n",
        "\n",
        "This report aims to provide a review report on the paper Eigenfaces vs. Fisherfaces: Recognition Using Class Specific Linear Projection written Peter N. Belhumeur, Joao P. Hespanha and David J. Kriegman. The report will critically analyse the journal paper based on several criteria such as Content, Innovation, Technical quality, Application and X-factor and presentation"
      ]
    },
    {
      "cell_type": "markdown",
      "metadata": {
        "id": "Nbovk_FtXzLt",
        "colab_type": "text"
      },
      "source": [
        "# 2. CONTENT\n",
        "\n"
      ]
    },
    {
      "cell_type": "markdown",
      "metadata": {
        "id": "V-T0BF2AXzLu",
        "colab_type": "text"
      },
      "source": [
        "\n",
        "\n",
        "**2.1 HISTORICAL BACKGROUND AND PAPER CONTENT**\n",
        "\n",
        "In the past years, extended researches were conducted in the field of face recognition. In an early work, Bledsoe mentioned about a system with a human operator who locates the feature points of human face and manually enters the position to the system. So, when the point distance of the features of an unfamiliar person is provided the test face is identified using some classification techniques like nearest neighbours (Sakthivel 2010). Remarkable progress has achieved in the field of face recognition with the development of potent models for face recognition. Through these models the faces can be represented as points in a high dimensional image space and then dimensionality reduction is used to get a meaningful picture. Two famous techniques used for dimensionality reduction are Principal component analysis(PCA) and Fishers Linear Discriminant Analysis(Fisher-LDA)(Kak 2001). Even though PCA is ideal for remaking images from a low dimensional space, since it withholds undesired changes due to the variation resulted by change in light and facial expression it is not good from a discrimination viewpoint. Fishers linear discriminant (FLD), proposed by Robert Fisher in 1936 is a traditional technique used in pattern classification. Several researchers used fisher’s discriminator in developing new methods for face recognition.The drawbacks with early developed methods was face recognition was only possible with the condition of small variation in lighting and facial expression but using the proposed strategy Fisherfaces which is a derivative of ‘Fisher’s Linear Discriminant’(FLD), it is possible to identify faces even with cases of extreme variations.\n",
        "\n",
        "In simple terms the focus of this paper is to define a new method for face recognition and the new method, Fisherfaces is compared against three existing methods correlation, Eigenfaces and linear subspaces. The dataset of  Harvard database(330 images) and the Database created by Yale(160 images) is used as test data sets for the comparison purpose.The problem can be stated as with the learning set (labelled face images with person’s identity) and a testing set (unlabelled face images from same group), recognize the person in test image. Under pattern classification model, the authors considered every pixel value of images as coordinates in high dimensional space.\n",
        "\n",
        " **2.2. AREA OF MACHINE LEARNING THE PAPER IS RELATED**\n",
        "\n",
        "Face recognition is a machine learning approach in which a model is tuned using a training dataset and after training the model, it can be used to identify face images. In most cases the input variables undergo **preprocessing** in which the images undergo translation and scaling. Preprocessing is an important step in machine learning because the data quality and the information that can be retrieved will influence the learning ability of model. The **Principle components analysis (PCA)** used in **Eigenface method** for dimensionality reduction is one of the popular algorithms for **unsupervised feature extraction**.\n",
        "\n",
        "**Fishers linear discriminant** is an approach used in machine learning to find the ‘linear combination’ of features that separates or groups two or more sets of objects. **Correlation** is used as a feature engineering tool in constructing the ‘machine learning models’. The correlation and eigenfaces method use the classifier **nearest neighbour** in the image space for classification. It is one of the simplest algorithms used in **supervised machine learning** for the classification purpose.\n",
        "\n",
        "**2.3.\t CORRESPONDENCE OF THE TITLE TO CONTENT**\n",
        "\n",
        "The title of the article ‘Eigenfaces vs. Fisherfaces: Recognition Using Class Specific Linear Projection’ is very specific to the content of the paper. It clearly conveys the purpose of the paper by including the key words. During the time of publication of this paper, the main drawback of previously developed algorithms was they were only successful with small variation in lighting condition and facial expression. Because of the change in facial expressions and lighting the regions of face will show variation from image to image, and when they were projected, they will deviate from linear subspace thus making it difficult for recognition. To overcome this issue, the images are linearly projected to a ‘low dimensional’ subspace that is insensitive to the variations. Fisherfaces, the method proposed by authors is based on the linear projection of images and therefore face recognition is possible even in extreme variations. Eigenfaces, another technique used for face recognition also uses the linear projection of images. In this article the authors are comparing the proposed method with other methods like correlation, eigenfaces and linear subspaces by using some experimental datasets. Even though three methods are used in comparison study, the focus is on comparing the proposed method, Fisherfaces with eigenfaces which is also based on the linear projection of the image and hence the title corresponds to the content of paper.\n",
        "\n",
        "\n",
        "\n",
        "\n"
      ]
    },
    {
      "cell_type": "markdown",
      "metadata": {
        "id": "7hCugJsXXzLv",
        "colab_type": "text"
      },
      "source": [
        "## Innovation"
      ]
    },
    {
      "cell_type": "markdown",
      "metadata": {
        "id": "-PGkE7yxXzLx",
        "colab_type": "text"
      },
      "source": [
        "The background at the time of the work is that people understood the problem as .... The creative idea is ..."
      ]
    },
    {
      "cell_type": "markdown",
      "metadata": {
        "id": "iBgADPeaXzLz",
        "colab_type": "text"
      },
      "source": [
        "## Technical quality"
      ]
    },
    {
      "cell_type": "markdown",
      "metadata": {
        "id": "mYQcRuXVXzL0",
        "colab_type": "text"
      },
      "source": [
        "The technical development if of high/low quality. The authors supported their theory using ..."
      ]
    },
    {
      "cell_type": "markdown",
      "metadata": {
        "id": "OE6tms98XzL1",
        "colab_type": "text"
      },
      "source": [
        "## Application and X-factor"
      ]
    },
    {
      "cell_type": "markdown",
      "metadata": {
        "id": "fhpMm93qXzL2",
        "colab_type": "text"
      },
      "source": [
        "I find the proposal in the paper promising. ..."
      ]
    },
    {
      "cell_type": "markdown",
      "metadata": {
        "id": "8ejX5MkTXzL4",
        "colab_type": "text"
      },
      "source": [
        "## Presentation"
      ]
    },
    {
      "cell_type": "markdown",
      "metadata": {
        "id": "4EbSPHm8XzL5",
        "colab_type": "text"
      },
      "source": [
        "The overall strucutre is clear. I found reading is easy / difficult. The paper could have been more attractive if the authors had organised ... / provided ... "
      ]
    },
    {
      "cell_type": "markdown",
      "metadata": {
        "id": "j3l5BIbDXzL6",
        "colab_type": "text"
      },
      "source": [
        "## References\n",
        "\n",
        "[SHA48][1]: Author, Title, Info\n",
        "\n",
        "[1]:https://google.com"
      ]
    }
  ]
}