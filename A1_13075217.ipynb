{
  "nbformat": 4,
  "nbformat_minor": 0,
  "metadata": {
    "kernelspec": {
      "display_name": "Python 3",
      "language": "python",
      "name": "python3"
    },
    "language_info": {
      "codemirror_mode": {
        "name": "ipython",
        "version": 3
      },
      "file_extension": ".py",
      "mimetype": "text/x-python",
      "name": "python",
      "nbconvert_exporter": "python",
      "pygments_lexer": "ipython3",
      "version": "3.5.4"
    },
    "toc": {
      "base_numbering": 1,
      "nav_menu": {},
      "number_sections": true,
      "sideBar": true,
      "skip_h1_title": false,
      "title_cell": "Table of Contents",
      "title_sidebar": "Contents",
      "toc_cell": false,
      "toc_position": {},
      "toc_section_display": true,
      "toc_window_display": false
    },
    "colab": {
      "name": "A1_13075217.ipynb",
      "version": "0.3.2",
      "provenance": [],
      "include_colab_link": true
    }
  },
  "cells": [
    {
      "cell_type": "markdown",
      "metadata": {
        "id": "view-in-github",
        "colab_type": "text"
      },
      "source": [
        "<a href=\"https://colab.research.google.com/github/richutomy/-ML2019_assignments_ID13075217/blob/master/A1_13075217.ipynb\" target=\"_parent\"><img src=\"https://colab.research.google.com/assets/colab-badge.svg\" alt=\"Open In Colab\"/></a>"
      ]
    },
    {
      "cell_type": "markdown",
      "metadata": {
        "id": "iUXEGA9-XzLr",
        "colab_type": "text"
      },
      "source": [
        "# Review Report on \"Eigenfaces vs. Fisherfaces: Recognition Using Class Specific Linear Projection\""
      ]
    },
    {
      "cell_type": "markdown",
      "metadata": {
        "id": "d81CCh4FH1AX",
        "colab_type": "text"
      },
      "source": [
        "URL : https://github.com/richutomy/-ML2019_assignments_ID13075217/blob/master/A1_13075217.ipynb"
      ]
    },
    {
      "cell_type": "markdown",
      "metadata": {
        "id": "4lGadZrJXzLs",
        "colab_type": "text"
      },
      "source": [
        "\n",
        "# **1. INTRODUCTION**\n",
        "\n",
        "This report aims to provide a review report on the paper Eigenfaces vs. Fisherfaces: Recognition Using Class Specific Linear Projection written Peter N. Belhumeur, Joao P. Hespanha and David J. Kriegman. The report will critically analyse the journal paper based on several criteria such as Content, Innovation, Technical quality, Application and X-factor and presentation"
      ]
    },
    {
      "cell_type": "markdown",
      "metadata": {
        "id": "Nbovk_FtXzLt",
        "colab_type": "text"
      },
      "source": [
        "# 2. CONTENT\n",
        "\n"
      ]
    },
    {
      "cell_type": "markdown",
      "metadata": {
        "id": "V-T0BF2AXzLu",
        "colab_type": "text"
      },
      "source": [
        "\n",
        "\n",
        "**2.1 HISTORICAL BACKGROUND AND PAPER CONTENT**\n",
        "\n",
        "In the past years, extended researches were conducted in the field of face recognition. In an early work, Bledsoe mentioned about a system with a human operator who locates the feature points of human face and manually enters the position to the system. So, when the point distance of the features of an unfamiliar person is provided the test face is identified using some classification techniques like nearest neighbours (Sakthivel 2010). Remarkable progress has achieved in the field of face recognition with the development of potent models for face recognition. Through these models the faces can be represented as points in a high dimensional image space and then dimensionality reduction is used to get a meaningful picture. Two famous techniques used for dimensionality reduction are Principal component analysis(PCA) and Fishers Linear Discriminant Analysis(Fisher-LDA)(Kak 2001). Even though PCA is ideal for remaking images from a low dimensional space, since it withholds undesired changes due to the variation resulted by change in light and facial expression it is not good from a discrimination viewpoint. Fishers linear discriminant (FLD), proposed by Robert Fisher in 1936 is a traditional technique used in pattern classification. Several researchers used fisher’s discriminator in developing new methods for face recognition.The drawbacks with early developed methods was face recognition was only possible with the condition of small variation in lighting and facial expression but using the proposed strategy Fisherfaces which is a derivative of ‘Fisher’s Linear Discriminant’(FLD), it is possible to identify faces even with cases of extreme variations.\n",
        "\n",
        "In simple terms the focus of this paper is to define a new method for face recognition and the new method, Fisherfaces is compared against three existing methods correlation, Eigenfaces and linear subspaces. The dataset of  Harvard database(330 images) and the Database created by Yale(160 images) is used as test data sets for the comparison purpose.The problem can be stated as with the learning set (labelled face images with person’s identity) and a testing set (unlabelled face images from same group), recognize the person in test image. Under pattern classification model, the authors considered every pixel value of images as coordinates in high dimensional space.\n",
        "\n",
        " **2.2. AREA OF MACHINE LEARNING THE PAPER IS RELATED**\n",
        "\n",
        "Face recognition is a machine learning approach in which a model is tuned using a training dataset and after training the model, it can be used to identify face images. In most cases the input variables undergo **preprocessing** in which the images undergo translation and scaling. Preprocessing is an important step in machine learning because the data quality and the information that can be retrieved will influence the learning ability of model. The **Principle components analysis (PCA)** used in **Eigenface method** for dimensionality reduction is one of the popular algorithms for **unsupervised feature extraction**.\n",
        "\n",
        "**Fishers linear discriminant** is an approach used in machine learning to find the ‘linear combination’ of features that separates or groups two or more sets of objects. **Correlation** is used as a feature engineering tool in constructing the ‘machine learning models’. The correlation and eigenfaces method use the classifier **nearest neighbour** in the image space for classification. It is one of the simplest algorithms used in **supervised machine learning** for the classification purpose.\n",
        "\n",
        "**2.3.\t CORRESPONDENCE OF THE TITLE TO CONTENT**\n",
        "\n",
        "The title of the article ‘Eigenfaces vs. Fisherfaces: Recognition Using Class Specific Linear Projection’ is very specific to the content of the paper. It clearly conveys the purpose of the paper by including the key words. During the time of publication of this paper, the main drawback of previously developed algorithms was they were only successful with small variation in lighting condition and facial expression. Because of the change in facial expressions and lighting the regions of face will show variation from image to image, and when they were projected, they will deviate from linear subspace thus making it difficult for recognition. To overcome this issue, the images are linearly projected to a ‘low dimensional’ subspace that is insensitive to the variations. Fisherfaces, the method proposed by authors is based on the linear projection of images and therefore face recognition is possible even in extreme variations. Eigenfaces, another technique used for face recognition also uses the linear projection of images. In this article the authors are comparing the proposed method with other methods like correlation, eigenfaces and linear subspaces by using some experimental datasets. Even though three methods are used in comparison study, the focus is on comparing the proposed method, Fisherfaces with eigenfaces which is also based on the linear projection of the image and hence the title corresponds to the content of paper.\n",
        "\n",
        "\n",
        "\n",
        "**2.4.\t DATA MINING TECHNIQUES USED**\n",
        "\n",
        "Face recognition is performed by comparing an unknown face with the images of faces kept in a database. The data mining technique used for face recognition is Classification. The four methods for face recognition described in the article are'\n",
        "\n",
        "1)Correlation: The classification technique used in this method is nearest neighbour. An image in the testing dataset is classified by allocating to it the label that is closest in learning dataset. When normalization is applied to get a zero mean and variance one, this activity is equal to selecting an image from learning set that correlates with image in test dataset in a best way.\n",
        "      \n",
        "2)Linear Subspaces: In this approach three or more images in different lighting conditions are used to create a 3D basis for linear subspace. For the recognition purpose distance of each image to the linear subspace is calculated and the face with shortest distance is selected. \n",
        "        \n",
        "3)Eigenfaces: Uses nearest neighbour classifier. For dimensionality reduction, PCA is used. Base faces or eigen faces are generated in this method and any image that the system analyses can be represented as the combination of base faces. After base faces are selected the problem can be reduced as a classification problem.\n",
        "       \n",
        "4)Fisherfaces: Class-specific method. Classifies the unknown face images of individuals based on training set of images. Helps in reliable classification. \n",
        "\n",
        "\n",
        "\n"
      ]
    },
    {
      "cell_type": "markdown",
      "metadata": {
        "id": "7hCugJsXXzLv",
        "colab_type": "text"
      },
      "source": [
        "## 3. Innovation"
      ]
    },
    {
      "cell_type": "markdown",
      "metadata": {
        "id": "-PGkE7yxXzLx",
        "colab_type": "text"
      },
      "source": [
        "\n",
        "The paper is innovative because it proposes a new approach that can successfully identify face images even with extreme variation of light and facial expression. During the time of paper publication, several methods for pattern recognition and face recognition were existed. But the drawbacks with those methods was face recognition was not successful with the variation in light and facial expressions. Under different lighting condition, same people will appear dramatically different, same with different facial expression. The method proposed by Belhumeur, Hespanha, and Kriegman eliminated this problem. Rather than coming with a breakthrough idea, they came up with the better version of an existing idea. The proposed method Fisherfaces is the derivative of ‘Fisher’s linear discriminant’, an approach developed by Robert Fisher for taxonomic classification. Cui, Swets and Weng in 1995, used Fishers discriminator to propose a method that can recognize hand gestures. \n",
        "\n",
        "The eigenface, another approach used in face recognition was efficient in terms of processing time and storage. But the drawback with that was, the correlation is high between training dataset and recognition dataset. Due to this, the accuracy of this method is affected with change in light intensity, scale, head position and orientation of image. Fisherfaces has advantage over eigenfaces with the better classification of images of different class. With the use FLD in fisherfaces, it is **successful in handling images of different people with difference in facial expressions**. And since it eliminates the initial three principal components that causes light intensity variations, the proposed method is **insensitive to light variations** as well.\n",
        "\n",
        "In an experiment conducted by Ming-Hsuan Yang in ‘Honda-fundamental research lab’, the two methods eigenfaces and fisherfaces was compared using the AT&T and Yale databases. The images of AT&T database varied in pose and scale and the images of Yale database varied in lighting and facial expressions. In both cases, the error rate of fisherfaces method was less than half than of eigenfaces approach.\n",
        "\n",
        "The method proposed by the authors is innovative because **innovation not only refers to the introduction of a new approach, but it also means that improvement on an existing method for a better result** is also an innovation.\n"
      ]
    },
    {
      "cell_type": "markdown",
      "metadata": {
        "id": "iBgADPeaXzLz",
        "colab_type": "text"
      },
      "source": [
        "## Technical quality"
      ]
    },
    {
      "cell_type": "markdown",
      "metadata": {
        "id": "mYQcRuXVXzL0",
        "colab_type": "text"
      },
      "source": [
        "The technical development if of high/low quality. The authors supported their theory using ..."
      ]
    },
    {
      "cell_type": "markdown",
      "metadata": {
        "id": "OE6tms98XzL1",
        "colab_type": "text"
      },
      "source": [
        "## Application and X-factor"
      ]
    },
    {
      "cell_type": "markdown",
      "metadata": {
        "id": "fhpMm93qXzL2",
        "colab_type": "text"
      },
      "source": [
        "I find the proposal in the paper promising. ..."
      ]
    },
    {
      "cell_type": "markdown",
      "metadata": {
        "id": "8ejX5MkTXzL4",
        "colab_type": "text"
      },
      "source": [
        "## Presentation\n",
        "\n",
        "1.   List item\n",
        "2.   List item\n",
        "\n"
      ]
    },
    {
      "cell_type": "markdown",
      "metadata": {
        "id": "4EbSPHm8XzL5",
        "colab_type": "text"
      },
      "source": [
        "The overall strucutre is clear. I found reading is easy / difficult. The paper could have been more attractive if the authors had organised ... / provided ... "
      ]
    },
    {
      "cell_type": "markdown",
      "metadata": {
        "id": "j3l5BIbDXzL6",
        "colab_type": "text"
      },
      "source": [
        "## References\n",
        "\n",
        "[SHA48][1]: Author, Title, Info\n",
        "\n",
        "[1]:https://google.com"
      ]
    }
  ]
}